{
    "cells": [
        {
            "cell_type": "markdown",
            "metadata": {
                "collapsed": true
            },
            "source": "<h1>Battle of the Neighborhoods in Long Island New York</h1>"
        },
        {
            "cell_type": "markdown",
            "metadata": {},
            "source": "<h3>About this project:</h3>\n<p>In this project I will evaluate Long Island New york area Neghiborhoods and determine the best areas to live based on a customers preference. </p>"
        },
        {
            "cell_type": "markdown",
            "metadata": {},
            "source": "<h3>Description and Background of the problem:</h3>\n<p>A potential job opening is available in Long Island New York area and a family is considering the best location to search for future homes. The family has never been to new york and unfamiliar with the various neighborhoods. The family has an opportunity to house hunt during a four-day weekend and would like to search neighborhoods that offer the best opportunities as places with live with services and businesses that they frequent.</p>\n\n"
        },
        {
            "cell_type": "markdown",
            "metadata": {},
            "source": "<h3>Data and how it will solve the problem:</h3>\n<p>\nThe Foursquare.com data provides location information on different types of venues by category and name. The family would like to search neighborhoods based on the proximity to favorite venues.\nThe family has a number of store preferences and would like to exam the types of venues in Foursquare.com data. They would like to search specific names of businesses and determine if they can identify the locations with the best range to their preferred venues.</p>"
        },
        {
            "cell_type": "code",
            "execution_count": null,
            "metadata": {},
            "outputs": [],
            "source": ""
        }
    ],
    "metadata": {
        "kernelspec": {
            "display_name": "Python 3.6",
            "language": "python",
            "name": "python3"
        },
        "language_info": {
            "codemirror_mode": {
                "name": "ipython",
                "version": 3
            },
            "file_extension": ".py",
            "mimetype": "text/x-python",
            "name": "python",
            "nbconvert_exporter": "python",
            "pygments_lexer": "ipython3",
            "version": "3.6.9"
        }
    },
    "nbformat": 4,
    "nbformat_minor": 1
}